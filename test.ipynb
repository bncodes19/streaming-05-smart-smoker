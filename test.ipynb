{
 "cells": [
  {
   "cell_type": "code",
   "execution_count": 1,
   "metadata": {},
   "outputs": [],
   "source": [
    "import time\n",
    "import csv"
   ]
  },
  {
   "cell_type": "code",
   "execution_count": 16,
   "metadata": {},
   "outputs": [],
   "source": [
    "temp_file = 'smoker-temps.csv'\n",
    "degree_sign = u'\\N{DEGREE SIGN}'\n",
    "bbq_smoker = \"BBQ Smoker\"\n",
    "brisket = \"Brisket\"\n",
    "chicken_wings = \"Chicken Wings\""
   ]
  },
  {
   "cell_type": "code",
   "execution_count": 20,
   "metadata": {},
   "outputs": [
    {
     "name": "stdout",
     "output_type": "stream",
     "text": [
      "Reading: Date: 05/22/21, Time: 12:20:20; temperature is 84.2°\n",
      "\n",
      "Reading: Date: 05/22/21, Time: 12:20:20; temperature is 84.2°\n",
      "Reading: Date: 05/22/21, Time: 12:21:10; temperature is 87.6°\n",
      "\n",
      "Reading: Date: 05/22/21, Time: 12:20:20; temperature is 84.2°\n",
      "Reading: Date: 05/22/21, Time: 12:21:10; temperature is 87.6°\n",
      "Reading: Date: 05/22/21, Time: 12:21:15; temperature is 87.6°\n",
      "\n"
     ]
    },
    {
     "ename": "KeyboardInterrupt",
     "evalue": "",
     "output_type": "error",
     "traceback": [
      "\u001b[0;31m---------------------------------------------------------------------------\u001b[0m",
      "\u001b[0;31mKeyboardInterrupt\u001b[0m                         Traceback (most recent call last)",
      "Cell \u001b[0;32mIn[20], line 23\u001b[0m\n\u001b[1;32m     15\u001b[0m             time\u001b[38;5;241m.\u001b[39msleep(\u001b[38;5;241m5\u001b[39m)\n\u001b[1;32m     16\u001b[0m             \u001b[38;5;66;03m#bbq_stream['Channel1'].append((time_utc, row['Channel1']))\u001b[39;00m\n\u001b[1;32m     17\u001b[0m             \u001b[38;5;66;03m#data['Channel2'].append((time_utc, row['Channel2']))\u001b[39;00m\n\u001b[1;32m     18\u001b[0m             \u001b[38;5;66;03m#data['Channel3'].append((time_utc, row['Channel3']))\u001b[39;00m\n\u001b[1;32m     19\u001b[0m             \u001b[38;5;66;03m#print(f\"the date is {time_utc} and the temperature is {row['Channel1']}\")\u001b[39;00m\n\u001b[1;32m     20\u001b[0m             \u001b[38;5;66;03m#next\u001b[39;00m\n\u001b[1;32m     21\u001b[0m             \u001b[38;5;66;03m#time.sleep(1)\u001b[39;00m\n\u001b[0;32m---> 23\u001b[0m \u001b[43mread_tasks_from_csv\u001b[49m\u001b[43m(\u001b[49m\u001b[43mtemp_file\u001b[49m\u001b[43m)\u001b[49m\n",
      "Cell \u001b[0;32mIn[20], line 15\u001b[0m, in \u001b[0;36mread_tasks_from_csv\u001b[0;34m(filename)\u001b[0m\n\u001b[1;32m     13\u001b[0m formatted_data \u001b[38;5;241m+\u001b[39m\u001b[38;5;241m=\u001b[39m \u001b[38;5;124mf\u001b[39m\u001b[38;5;124m\"\u001b[39m\u001b[38;5;124mReading: Date: \u001b[39m\u001b[38;5;132;01m{\u001b[39;00mdate_split\u001b[38;5;132;01m}\u001b[39;00m\u001b[38;5;124m, Time: \u001b[39m\u001b[38;5;132;01m{\u001b[39;00mtime_split\u001b[38;5;132;01m}\u001b[39;00m\u001b[38;5;124m; temperature is \u001b[39m\u001b[38;5;132;01m{\u001b[39;00mtemperature\u001b[38;5;132;01m}\u001b[39;00m\u001b[38;5;132;01m{\u001b[39;00mdegree_sign\u001b[38;5;132;01m}\u001b[39;00m\u001b[38;5;130;01m\\n\u001b[39;00m\u001b[38;5;124m\"\u001b[39m\n\u001b[1;32m     14\u001b[0m \u001b[38;5;28mprint\u001b[39m(formatted_data)\n\u001b[0;32m---> 15\u001b[0m \u001b[43mtime\u001b[49m\u001b[38;5;241;43m.\u001b[39;49m\u001b[43msleep\u001b[49m\u001b[43m(\u001b[49m\u001b[38;5;241;43m5\u001b[39;49m\u001b[43m)\u001b[49m\n",
      "\u001b[0;31mKeyboardInterrupt\u001b[0m: "
     ]
    }
   ],
   "source": [
    "def read_tasks_from_csv(filename: str): #, host: str, queue:str):\n",
    "    #bbq_stream = {'Channel1': []}\n",
    "    #food_a_stream = {'Channel2': []}\n",
    "    #food_b_stream = {'Channel3' : []}\n",
    "    formatted_data = \"\"\n",
    "    with open(filename, 'r') as file:\n",
    "        reader = csv.DictReader(file)\n",
    "        next(reader) #skips header\n",
    "        for row in reader:\n",
    "            time_utc = row['Time (UTC)']\n",
    "            date_split, time_split = time_utc.split(' ')\n",
    "            temperature = row['Channel1']\n",
    "            formatted_data += f\"Reading: Date: {date_split}, Time: {time_split}; temperature is {temperature}{degree_sign}\\n\"\n",
    "            print(formatted_data)\n",
    "            time.sleep(5)\n",
    "            #bbq_stream['Channel1'].append((time_utc, row['Channel1']))\n",
    "            #data['Channel2'].append((time_utc, row['Channel2']))\n",
    "            #data['Channel3'].append((time_utc, row['Channel3']))\n",
    "            #print(f\"the date is {time_utc} and the temperature is {row['Channel1']}\")\n",
    "            #next\n",
    "            #time.sleep(1)\n",
    "    \n",
    "read_tasks_from_csv(temp_file)"
   ]
  },
  {
   "cell_type": "code",
   "execution_count": null,
   "metadata": {},
   "outputs": [],
   "source": [
    "def read_tasks_and_send_tasks(file_name: str, host: str, queue: str):\n",
    "    \"\"\" Function to read tasks and send tasks from a csv file\"\"\"\n",
    "    with open(file_name) as task_file:\n",
    "        csvreader = csv.reader(task_file)\n",
    "        for row in csvreader:\n",
    "            task_message = \"\".join(row)\n",
    "            send_message(host, queue, task_message)\n",
    "            time.sleep(10)"
   ]
  },
  {
   "cell_type": "code",
   "execution_count": null,
   "metadata": {},
   "outputs": [],
   "source": [
    "    smoker_stream = {'Channel1': []}\n",
    "    #food_a_stream = {'Channel2': []}\n",
    "    #food_b_stream = {'Channel3' : []}"
   ]
  },
  {
   "cell_type": "code",
   "execution_count": null,
   "metadata": {},
   "outputs": [],
   "source": []
  },
  {
   "cell_type": "code",
   "execution_count": null,
   "metadata": {},
   "outputs": [],
   "source": [
    "def main(host: str, queue: str, filename: str):\n",
    "    bbq_smoker_stream = \"\" \n",
    "    brisket_stream = \"\"\n",
    "    chicken_wings_stream = \"\"\n",
    "\n",
    "    with open(filename, 'r') as file:\n",
    "        reader = csv.DictReader(file)\n",
    "        next(reader) #skips header\n",
    "        for row in reader:\n",
    "            time_utc = row['Time (UTC)']\n",
    "            date_split, time_split = time_utc.split(' ')\n",
    "            smoker_temp = row['Channel1']\n",
    "            bbq_smoker_stream += f\"Reading: Date: {date_split}, Time: {time_split}; temperature is {smoker_temp}{degree_sign}\\n\"\n",
    "            #send_message(host, queue, bbq_smoker_stream)\n",
    "            print(bbq_smoker_stream)\n",
    "\n",
    "            brisket_temp = row['Channel2']\n",
    "            brisket_stream += f\"{brisket} temp is: {brisket_stream}\\n\"\n",
    "            #send_message(host, queue, brisket_stream)\n",
    "            print(brisket_stream)\n",
    "\n",
    "            chicken_wings_temp = row['Channel3']\n",
    "            chicken_wings_stream += f\"{chicken_wings} = temp is {chicken_wings_temp}\\n\"\n",
    "            #send_message(host, queue, chicken_wings_stream)\n",
    "            print(chicken_wings_stream)\n",
    "            \n",
    "            \n",
    "            # After iterating through a row, sleep for 5 seconds\n",
    "            time.sleep(5)"
   ]
  },
  {
   "cell_type": "code",
   "execution_count": null,
   "metadata": {},
   "outputs": [],
   "source": []
  }
 ],
 "metadata": {
  "kernelspec": {
   "display_name": "Python 3",
   "language": "python",
   "name": "python3"
  },
  "language_info": {
   "codemirror_mode": {
    "name": "ipython",
    "version": 3
   },
   "file_extension": ".py",
   "mimetype": "text/x-python",
   "name": "python",
   "nbconvert_exporter": "python",
   "pygments_lexer": "ipython3",
   "version": "3.12.1"
  }
 },
 "nbformat": 4,
 "nbformat_minor": 2
}
